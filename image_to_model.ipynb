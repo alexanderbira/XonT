{
  "cells": [
    {
      "cell_type": "markdown",
      "metadata": {
        "colab": {
          "base_uri": "https://localhost:8080/"
        },
        "id": "YadOCCCyXT0y",
        "outputId": "bdfb4ec1-6985-4ca2-c2f9-d3346cb47578"
      },
      "source": [
        "# Convert image file to 3d asset\n",
        "This should be run on the cloud. A good option is Google Colab's A100 runtime."
      ]
    },
    {
      "cell_type": "code",
      "execution_count": null,
      "metadata": {},
      "outputs": [],
      "source": [
        "!nvidia-smi"
      ]
    },
    {
      "cell_type": "markdown",
      "metadata": {
        "id": "S7vZFQkeq_Vk"
      },
      "source": [
        "Clone threestudio repo"
      ]
    },
    {
      "cell_type": "code",
      "execution_count": null,
      "metadata": {
        "colab": {
          "base_uri": "https://localhost:8080/"
        },
        "id": "ubuVj4z0MhHh",
        "outputId": "6158a298-cc9f-4cf7-8fba-4e29f9ed7b22"
      },
      "outputs": [],
      "source": [
        "!git clone https://github.com/threestudio-project/threestudio.git"
      ]
    },
    {
      "cell_type": "code",
      "execution_count": null,
      "metadata": {
        "colab": {
          "base_uri": "https://localhost:8080/"
        },
        "id": "HrGD3RtXXsB9",
        "outputId": "23638263-7ad9-48f4-9c0d-59eabc5cf373"
      },
      "outputs": [],
      "source": [
        "%cd threestudio"
      ]
    },
    {
      "cell_type": "markdown",
      "metadata": {
        "id": "aXqmxXX0Jb6m"
      },
      "source": [
        "Install dependencies"
      ]
    },
    {
      "cell_type": "code",
      "execution_count": null,
      "metadata": {
        "colab": {
          "base_uri": "https://localhost:8080/"
        },
        "id": "HKZQNbNmX20t",
        "outputId": "f1d97137-1f00-4b36-c9bc-5bc19e13b9ff"
      },
      "outputs": [],
      "source": [
        "!pip install ninja\n",
        "!pip install lightning==2.0.0 omegaconf==2.3.0 jaxtyping typeguard diffusers transformers accelerate opencv-python tensorboard matplotlib imageio imageio[ffmpeg] trimesh bitsandbytes sentencepiece safetensors huggingface_hub libigl xatlas networkx pysdf PyMCubes wandb torchmetrics controlnet_aux\n",
        "!pip install einops kornia taming-transformers-rom1504 git+https://github.com/openai/CLIP.git # zero123\n",
        "!pip install open3d plotly # mesh visualization"
      ]
    },
    {
      "cell_type": "markdown",
      "metadata": {
        "id": "b8U3rne0JTgs"
      },
      "source": [
        "And build some dependencies manually. This may take a while. (16-23 mins)"
      ]
    },
    {
      "cell_type": "code",
      "execution_count": null,
      "metadata": {
        "colab": {
          "base_uri": "https://localhost:8080/"
        },
        "id": "BFHI67e0_65a",
        "outputId": "7dd02d69-8284-40f6-9424-9019bd9b545b"
      },
      "outputs": [],
      "source": [
        "!pip install git+https://github.com/ashawkey/envlight.git\n",
        "!pip install git+https://github.com/KAIR-BAIR/nerfacc.git@v0.5.2\n",
        "!pip install git+https://github.com/NVlabs/nvdiffrast.git\n",
        "!pip install git+https://github.com/NVlabs/tiny-cuda-nn/#subdirectory=bindings/torch"
      ]
    },
    {
      "cell_type": "code",
      "execution_count": null,
      "metadata": {
        "colab": {
          "base_uri": "https://localhost:8080/"
        },
        "id": "N_NtaIxRHkG8",
        "outputId": "1e4b56e8-27ff-40fd-c4ce-16e46a455d84"
      },
      "outputs": [],
      "source": [
        "!wget \"https://huggingface.co/stabilityai/stable-zero123/resolve/main/stable_zero123.ckpt?download=true\" -O load/zero123/stable_zero123.ckpt"
      ]
    },
    {
      "cell_type": "code",
      "execution_count": null,
      "metadata": {
        "colab": {
          "base_uri": "https://localhost:8080/"
        },
        "id": "wha37uYRIeXd",
        "outputId": "51d80c16-b94c-4ec2-fde5-33689e171178"
      },
      "outputs": [],
      "source": [
        "# Replace <img> with your image name, which should be in this folder\n",
        "!python launch.py --config configs/stable-zero123.yaml --train --gpu 0 data.image_path=./load/images/<img>.png system.guidance.pretrained_model_name_or_path=\"load/zero123/stable_zero123.ckpt\""
      ]
    },
    {
      "cell_type": "code",
      "execution_count": null,
      "metadata": {
        "colab": {
          "base_uri": "https://localhost:8080/"
        },
        "id": "AACOJMU_KKCl",
        "outputId": "129c6018-85ab-4997-f4ec-ac9a0d2fd99d"
      },
      "outputs": [],
      "source": [
        "# Replace <path> with the appropriate output path\n",
        "!python launch.py --config \"outputs/zero123-sai/<path>/configs/parsed.yaml\" --export --gpu 0 resume=\"outputs/zero123-sai/<path>/ckpts/last.ckpt\" system.exporter_type=mesh-exporter system.exporter.context_type=cuda"
      ]
    }
  ],
  "metadata": {
    "accelerator": "GPU",
    "colab": {
      "gpuType": "A100",
      "provenance": []
    },
    "kernelspec": {
      "display_name": "Python 3",
      "name": "python3"
    },
    "language_info": {
      "name": "python"
    }
  },
  "nbformat": 4,
  "nbformat_minor": 0
}
